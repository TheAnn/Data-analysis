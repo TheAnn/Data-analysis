{
 "cells": [
  {
   "cell_type": "code",
   "execution_count": 1,
   "metadata": {},
   "outputs": [],
   "source": [
    "%matplotlib inline\n",
    "import numpy as np\n",
    "import pylab\n",
    "import pandas as pd"
   ]
  },
  {
   "cell_type": "code",
   "execution_count": null,
   "metadata": {},
   "outputs": [],
   "source": []
  },
  {
   "cell_type": "code",
   "execution_count": 2,
   "metadata": {},
   "outputs": [
    {
     "name": "stdout",
     "output_type": "stream",
     "text": [
      "   Energy_kcal  Protein_g  Fat_g  Carb_g  Sugar_g  Fiber_g  VitA_mcg  \\\n",
      "0        717.0       0.85  81.11    0.06     0.06      0.0     684.0   \n",
      "1        717.0       0.85  81.11    0.06     0.06      0.0     684.0   \n",
      "2        876.0       0.28  99.48    0.00     0.00      0.0     840.0   \n",
      "3        353.0      21.40  28.74    2.34     0.50      0.0     198.0   \n",
      "4        371.0      23.24  29.68    2.79     0.51      0.0     292.0   \n",
      "\n",
      "   VitB6_mg  VitB12_mcg  VitC_mg     ...      Folate_USRDA  Niacin_USRDA  \\\n",
      "0     0.003        0.17      0.0     ...            0.0075      0.002625   \n",
      "1     0.003        0.13      0.0     ...            0.0075      0.002625   \n",
      "2     0.001        0.01      0.0     ...            0.0000      0.000188   \n",
      "3     0.166        1.22      0.0     ...            0.0900      0.063500   \n",
      "4     0.065        1.26      0.0     ...            0.0500      0.007375   \n",
      "\n",
      "   Riboflavin_USRDA  Thiamin_USRDA  Calcium_USRDA  Copper_USRDA  \\\n",
      "0          0.026154       0.004167       0.020000      0.000000   \n",
      "1          0.026154       0.004167       0.020000      0.000018   \n",
      "2          0.003846       0.000833       0.003333      0.000001   \n",
      "3          0.293846       0.024167       0.440000      0.000044   \n",
      "4          0.270000       0.011667       0.561667      0.000027   \n",
      "\n",
      "   Magnesium_USRDA  Phosphorus_USRDA  Selenium_USRDA  Zinc_USRDA  \n",
      "0         0.004762          0.034286        0.018182    0.008182  \n",
      "1         0.004762          0.032857        0.018182    0.004545  \n",
      "2         0.000000          0.004286        0.000000    0.000909  \n",
      "3         0.054762          0.552857        0.263636    0.241818  \n",
      "4         0.057143          0.644286        0.263636    0.236364  \n",
      "\n",
      "[5 rows x 38 columns]\n"
     ]
    }
   ],
   "source": [
    "food=pd.read_csv(\"acro.csv\")\n",
    "food.columns\n",
    "food=food[['FoodGroup', 'ShortDescrip', 'Descrip',\n",
    "        'Energy_kcal', 'Protein_g', 'Fat_g', 'Carb_g',\n",
    "       'Sugar_g', 'Fiber_g', 'VitA_mcg', 'VitB6_mg', 'VitB12_mcg', 'VitC_mg',\n",
    "       'VitE_mg', 'Folate_mcg', 'Niacin_mg', 'Riboflavin_mg', 'Thiamin_mg',\n",
    "       'Calcium_mg', 'Copper_mcg', 'Iron_mg', 'Magnesium_mg', 'Manganese_mg',\n",
    "       'Phosphorus_mg', 'Selenium_mcg', 'Zinc_mg', 'VitA_USRDA', 'VitB6_USRDA',\n",
    "       'VitB12_USRDA', 'VitC_USRDA', 'VitE_USRDA', 'Folate_USRDA',\n",
    "       'Niacin_USRDA', 'Riboflavin_USRDA', 'Thiamin_USRDA', 'Calcium_USRDA',\n",
    "       'Copper_USRDA', 'Magnesium_USRDA', 'Phosphorus_USRDA', 'Selenium_USRDA',\n",
    "       'Zinc_USRDA']]\n",
    "\n",
    "food.dropna()\n",
    "#print(food.head())\n",
    "#food.shape\n",
    "#food.dtypes\n",
    "food_noname=food.iloc[:,3:42]\n",
    "food_desc=food.iloc[:,0:3]\n",
    "print(food_noname.head())"
   ]
  },
  {
   "cell_type": "code",
   "execution_count": null,
   "metadata": {},
   "outputs": [],
   "source": []
  },
  {
   "cell_type": "code",
   "execution_count": 3,
   "metadata": {},
   "outputs": [],
   "source": [
    "#Loading Y from saved file\n",
    "from numpy import genfromtxt\n",
    "Y = genfromtxt('Y.csv', delimiter=',')"
   ]
  },
  {
   "cell_type": "code",
   "execution_count": null,
   "metadata": {},
   "outputs": [],
   "source": []
  },
  {
   "cell_type": "code",
   "execution_count": 4,
   "metadata": {},
   "outputs": [],
   "source": [
    "#Creating categories (numbers)\n",
    "#food['code'] = food.FoodGroup.cat.codes\n",
    "catNumbers = np.asarray(food.FoodGroup.astype('category').cat.codes)\n",
    "#categories"
   ]
  },
  {
   "cell_type": "code",
   "execution_count": null,
   "metadata": {},
   "outputs": [],
   "source": []
  },
  {
   "cell_type": "code",
   "execution_count": 5,
   "metadata": {},
   "outputs": [],
   "source": [
    "#Categories raw from food\n",
    "catNames = np.asarray(food.FoodGroup)"
   ]
  },
  {
   "cell_type": "code",
   "execution_count": null,
   "metadata": {},
   "outputs": [],
   "source": []
  },
  {
   "cell_type": "code",
   "execution_count": 6,
   "metadata": {},
   "outputs": [
    {
     "data": {
      "text/plain": [
       "'file:///Users/Anna/trial.html'"
      ]
     },
     "execution_count": 6,
     "metadata": {},
     "output_type": "execute_result"
    }
   ],
   "source": [
    "import plotly as py\n",
    "import plotly.graph_objs as go\n",
    "\n",
    "x=Y[:, 0]\n",
    "y=Y[:, 1]\n",
    "z=Y[:, 2]\n",
    "\n",
    "trace1 = go.Scatter3d(\n",
    "    x=x,\n",
    "    y=y,\n",
    "    z=z,\n",
    "    text = catNames,\n",
    "    hoverinfo = 'text',\n",
    "    mode='markers',\n",
    "    marker=dict(\n",
    "        size=3,\n",
    "        color=catNumbers,                # set color to an array/list of desired values\n",
    "        colorscale='Viridis',   # choose a colorscale\n",
    "        opacity=0.8\n",
    "    )\n",
    ")\n",
    "\n",
    "data = [trace1]\n",
    "layout = go.Layout(\n",
    "    margin=dict(\n",
    "        l=0,\n",
    "        r=0,\n",
    "        b=0,\n",
    "        t=0\n",
    "    )\n",
    ")\n",
    "fig = go.Figure(data=data, layout=layout)\n",
    "#py.iplot(fig, filename='3d-scatter-colorscale')\n",
    "py.offline.plot(fig, filename = 'trial.html')"
   ]
  },
  {
   "cell_type": "code",
   "execution_count": null,
   "metadata": {},
   "outputs": [],
   "source": []
  },
  {
   "cell_type": "code",
   "execution_count": null,
   "metadata": {},
   "outputs": [],
   "source": []
  }
 ],
 "metadata": {
  "kernelspec": {
   "display_name": "Python 3",
   "language": "python",
   "name": "python3"
  },
  "language_info": {
   "codemirror_mode": {
    "name": "ipython",
    "version": 3
   },
   "file_extension": ".py",
   "mimetype": "text/x-python",
   "name": "python",
   "nbconvert_exporter": "python",
   "pygments_lexer": "ipython3",
   "version": "3.6.4"
  }
 },
 "nbformat": 4,
 "nbformat_minor": 2
}
