{
 "cells": [
  {
   "cell_type": "code",
   "execution_count": 6,
   "metadata": {
    "collapsed": false
   },
   "outputs": [
    {
     "name": "stdout",
     "output_type": "stream",
     "text": [
      "['year,month,date_of_month,day_of_week,births', '1994,1,1,6,8096', '1994,1,2,7,7772', '1994,1,3,1,10142', '1994,1,4,2,11248', '1994,1,5,3,11053', '1994,1,6,4,11406', '1994,1,7,5,11251', '1994,1,8,6,8653', '1994,1,9,7,7910']\n"
     ]
    }
   ],
   "source": [
    "f = open(\"US_births_1994-2003_CDC_NCHS.csv\", \"r\")\n",
    "g = f.read()\n",
    "list=g.split(\"\\n\")\n",
    "print(list[0:10])\n"
   ]
  },
  {
   "cell_type": "code",
   "execution_count": 9,
   "metadata": {
    "collapsed": false
   },
   "outputs": [
    {
     "data": {
      "text/plain": [
       "[[1994, 1, 1, 6, 8096],\n",
       " [1994, 1, 2, 7, 7772],\n",
       " [1994, 1, 3, 1, 10142],\n",
       " [1994, 1, 4, 2, 11248],\n",
       " [1994, 1, 5, 3, 11053],\n",
       " [1994, 1, 6, 4, 11406],\n",
       " [1994, 1, 7, 5, 11251],\n",
       " [1994, 1, 8, 6, 8653],\n",
       " [1994, 1, 9, 7, 7910],\n",
       " [1994, 1, 10, 1, 10498]]"
      ]
     },
     "execution_count": 9,
     "metadata": {},
     "output_type": "execute_result"
    }
   ],
   "source": [
    "def read_csv(input_lst):\n",
    "    f = open(input_lst, \"r\").read()\n",
    "    string_list=f.split(\"\\n\")\n",
    "    string_list=string_list[1:len(string_list)] \n",
    "    final_list=[]\n",
    "    \n",
    "    for rows in string_list:\n",
    "        string_fields=rows.split(\",\") \n",
    "        int_fields=[]\n",
    "        \n",
    "        for value in string_fields:\n",
    "            int_fields.append(int(value))\n",
    "        final_list.append(int_fields)\n",
    "    return final_list\n",
    "\n",
    "cdc_list = read_csv(\"US_births_1994-2003_CDC_NCHS.csv\")\n",
    "cdc_list[0:10]"
   ]
  },
  {
   "cell_type": "code",
   "execution_count": 9,
   "metadata": {
    "collapsed": false
   },
   "outputs": [
    {
     "data": {
      "text/plain": [
       "{1: 3232517,\n",
       " 2: 3018140,\n",
       " 3: 3322069,\n",
       " 4: 3185314,\n",
       " 5: 3350907,\n",
       " 6: 3296530,\n",
       " 7: 3498783,\n",
       " 8: 3525858,\n",
       " 9: 3439698,\n",
       " 10: 3378814,\n",
       " 11: 3171647,\n",
       " 12: 3301860}"
      ]
     },
     "execution_count": 9,
     "metadata": {},
     "output_type": "execute_result"
    }
   ],
   "source": [
    "def month_births(list_of_lists):\n",
    "    births_per_month={}\n",
    "    for value in list_of_lists:\n",
    "        month=value[1]\n",
    "        births=value[4]\n",
    "        if month in births_per_month:\n",
    "            births_per_month[month] = births_per_month[month] + births\n",
    "        else:\n",
    "            births_per_month[month] = births  \n",
    "    return births_per_month\n",
    "    \n",
    "cdc_month_births = month_births(cdc_list)\n",
    "cdc_month_births\n",
    "\n"
   ]
  },
  {
   "cell_type": "code",
   "execution_count": 11,
   "metadata": {
    "collapsed": false
   },
   "outputs": [
    {
     "data": {
      "text/plain": [
       "{1: 5789166,\n",
       " 2: 6446196,\n",
       " 3: 6322855,\n",
       " 4: 6288429,\n",
       " 5: 6233657,\n",
       " 6: 4562111,\n",
       " 7: 4079723}"
      ]
     },
     "execution_count": 11,
     "metadata": {},
     "output_type": "execute_result"
    }
   ],
   "source": [
    "def dow_births(list_of_lists):\n",
    "    births_per_dow={}\n",
    "    for value in list_of_lists:\n",
    "        day=value[3]\n",
    "        births=value[4]\n",
    "        if day in births_per_dow:\n",
    "            births_per_dow[day] = births_per_dow[day] + births\n",
    "        else:\n",
    "            births_per_dow[day] = births  \n",
    "    return births_per_dow\n",
    "cdc_day_births=dow_births(cdc_list)\n",
    "cdc_day_births\n",
    "    "
   ]
  },
  {
   "cell_type": "code",
   "execution_count": 13,
   "metadata": {
    "collapsed": false
   },
   "outputs": [
    {
     "data": {
      "text/plain": [
       "{1994: 3952767,\n",
       " 1995: 3899589,\n",
       " 1996: 3891494,\n",
       " 1997: 3880894,\n",
       " 1998: 3941553,\n",
       " 1999: 3959417,\n",
       " 2000: 4058814,\n",
       " 2001: 4025933,\n",
       " 2002: 4021726,\n",
       " 2003: 4089950}"
      ]
     },
     "execution_count": 13,
     "metadata": {},
     "output_type": "execute_result"
    }
   ],
   "source": [
    "def calc_counts(data,column_number):\n",
    "    calculated_list={}\n",
    "    for value in data:\n",
    "        column=value[column_number]\n",
    "        births=value[4]\n",
    "        if column in calculated_list:\n",
    "            calculated_list[column] = calculated_list[column] + births\n",
    "        else:\n",
    "            calculated_list[column] = births  \n",
    "    return calculated_list\n",
    "\n",
    "cdc_year_births=calc_counts(cdc_list,0)\n",
    "cdc_month_births=calc_counts(cdc_list,1)\n",
    "cdc_dom_births=calc_counts(cdc_list,2)\n",
    "cdc_dow_births=calc_counts(cdc_list,3)\n",
    "\n",
    "cdc_year_births\n",
    "#cdc_month_births\n",
    "#cdc_dom_births\n",
    "#cdc_dow_births\n",
    "\n",
    "\n",
    "\n",
    "    \n",
    "    "
   ]
  },
  {
   "cell_type": "code",
   "execution_count": 14,
   "metadata": {
    "collapsed": false
   },
   "outputs": [
    {
     "name": "stdout",
     "output_type": "stream",
     "text": [
      "(2003, 4089950)\n",
      "(1997, 3880894)\n",
      "(8, 3525858)\n",
      "(2, 3018140)\n",
      "(18, 1326855)\n",
      "(31, 746696)\n",
      "(2, 6446196)\n",
      "(7, 4079723)\n"
     ]
    }
   ],
   "source": [
    "def min_max(data_dictionary, minmax):\n",
    "    if minmax.lower() == \"maximum\":\n",
    "        maximum = max(data_dictionary, key=data_dictionary.get)\n",
    "        return (maximum, data_dictionary[maximum])\n",
    "    if minmax.lower() == \"minimum\":\n",
    "        minimum = min(data_dictionary, key=data_dictionary.get)\n",
    "        return (minimum, data_dictionary[minimum])\n",
    "        \n",
    "print(min_max(cdc_year_births, \"Maximum\"))\n",
    "print(min_max(cdc_year_births, \"Minimum\"))\n",
    "\n",
    "print(min_max(cdc_month_births, \"Maximum\"))\n",
    "print(min_max(cdc_month_births, \"Minimum\"))\n",
    "\n",
    "print(min_max(cdc_dom_births, \"Maximum\"))\n",
    "print(min_max(cdc_dom_births, \"Minimum\"))\n",
    "\n",
    "print(min_max(cdc_dow_births, \"Maximum\"))\n",
    "print(min_max(cdc_dow_births, \"Minimum\"))"
   ]
  },
  {
   "cell_type": "code",
   "execution_count": null,
   "metadata": {
    "collapsed": true
   },
   "outputs": [],
   "source": []
  }
 ],
 "metadata": {
  "anaconda-cloud": {},
  "kernelspec": {
   "display_name": "Python 3",
   "language": "python",
   "name": "python3"
  },
  "language_info": {
   "codemirror_mode": {
    "name": "ipython",
    "version": 3
   },
   "file_extension": ".py",
   "mimetype": "text/x-python",
   "name": "python",
   "nbconvert_exporter": "python",
   "pygments_lexer": "ipython3",
   "version": "3.4.3"
  }
 },
 "nbformat": 4,
 "nbformat_minor": 1
}
